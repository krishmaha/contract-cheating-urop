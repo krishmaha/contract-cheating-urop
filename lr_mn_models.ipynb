{
 "cells": [
  {
   "cell_type": "code",
   "execution_count": 1,
   "id": "451fb32e",
   "metadata": {},
   "outputs": [],
   "source": [
    "import pandas as pd\n",
    "import numpy as np\n",
    "import seaborn as sns\n",
    "import matplotlib.pyplot as plt\n",
    "\n",
    "from sklearn.feature_extraction.text import CountVectorizer,HashingVectorizer\n",
    "from sklearn.naive_bayes import MultinomialNB\n",
    "from sklearn.model_selection import train_test_split, GridSearchCV\n",
    "from sklearn.ensemble import RandomForestClassifier\n",
    "from sklearn.tree import DecisionTreeClassifier\n",
    "from sklearn.linear_model import LogisticRegression\n",
    "from sklearn.metrics import confusion_matrix,plot_confusion_matrix\n",
    "from sklearn.neighbors import KNeighborsClassifier\n",
    "from sklearn.svm import SVC\n",
    "\n",
    "\n",
    "import nltk\n",
    "from nltk.stem import WordNetLemmatizer\n",
    "lemmatizer = WordNetLemmatizer()\n",
    "\n",
    "%matplotlib inline"
   ]
  },
  {
   "cell_type": "code",
   "execution_count": 2,
   "id": "2a7e8dbe",
   "metadata": {},
   "outputs": [],
   "source": [
    "asking_for_help_MLdata = pd.read_csv('askingforhelp_data.csv')\n",
    "cheating_MLdata = pd.read_csv('cheating_data.csv')"
   ]
  },
  {
   "cell_type": "code",
   "execution_count": null,
   "id": "dd4aa93f",
   "metadata": {},
   "outputs": [],
   "source": [
    "#LOGISTIC REGRESSION"
   ]
  },
  {
   "cell_type": "code",
   "execution_count": 7,
   "id": "c4a9bb74",
   "metadata": {},
   "outputs": [],
   "source": [
    "def run_lr_model(category):\n",
    "    \n",
    "    features = ['title', 'selftext']\n",
    "    \n",
    "    if category == 'asking for help':\n",
    "        reddit_posts_df_1 = asking_for_help_MLdata\n",
    "        reddit_posts_df = reddit_posts_df_1.replace(np.nan, 'thisismissingtext', regex=True)\n",
    "        X = reddit_posts_df[features].fillna('thisismissingtext')\n",
    "        y = reddit_posts_df['Asking for help'].fillna('thisismissingtext')\n",
    "    elif category == 'cheating':\n",
    "        reddit_posts_df_1 = cheating_MLdata\n",
    "        reddit_posts_df = reddit_posts_df_1.replace(np.nan, 'thisismissingtext', regex=True)\n",
    "        X = reddit_posts_df[features].fillna('thisismissingtext')\n",
    "        y = reddit_posts_df['Cheating'].fillna('thisismissingtext')\n",
    "        \n",
    "    \n",
    "    X_train, X_test, y_train, y_test = train_test_split(X,\n",
    "                                                    y,\n",
    "                                                    random_state=42,\n",
    "                                                    test_size=0.50,\n",
    "                                                    stratify=y)\n",
    "    \n",
    "    cv_text = CountVectorizer(stop_words='english', strip_accents = 'ascii', ngram_range=(1, 10))\n",
    "    cv_title = CountVectorizer(stop_words='english', strip_accents = 'ascii', ngram_range=(1, 3))\n",
    "    \n",
    "    X_train_selftext = cv_text.fit_transform(X_train.selftext)\n",
    "    X_train_title = cv_title.fit_transform(X_train.title)\n",
    "\n",
    "    X_test_selftext = cv_text.transform(X_test.selftext)\n",
    "    X_test_title = cv_title.transform(X_test.title)\n",
    "\n",
    "    X_train_selftext_df = pd.DataFrame(X_train_selftext.todense(), columns=[x+'_text' for x in cv_text.get_feature_names_out()])\n",
    "    \n",
    "    X_train_title_df = pd.DataFrame(X_train_title.todense(), columns=[y+'_title' for y in cv_title.get_feature_names_out()])\n",
    "\n",
    "    X_test_selftext_df = pd.DataFrame(X_test_selftext.todense(), columns=[x+'_text' for x in cv_text.get_feature_names_out()])\n",
    "    \n",
    "    X_test_title_df = pd.DataFrame(X_test_title.todense(), columns=[y+'_title' for y in cv_title.get_feature_names_out()])\n",
    "\n",
    "    vecced_train_reddit_posts = pd.concat([X_train_selftext_df, X_train_title_df], axis=1)\n",
    "    vecced_test_reddit_posts = pd.concat([X_test_selftext_df, X_test_title_df], axis=1)\n",
    "    \n",
    "    lr_params = {\n",
    "        'penalty': ['l1'],\n",
    "        'C': [1, 1.5, 2, 2.5],\n",
    "        'class_weight': ['balanced'],\n",
    "        'warm_start': [True, False],\n",
    "        'random_state': [42],\n",
    "        'solver': ['liblinear']}\n",
    "        \n",
    "    M = GridSearchCV(LogisticRegression(),\n",
    "                        lr_params,\n",
    "                        cv = 5,\n",
    "                        verbose = 1,\n",
    "                        n_jobs = -1)\n",
    "    M.fit(vecced_train_reddit_posts.values, y_train)\n",
    "     \n",
    "    print(f'Train score = {M.score(vecced_train_reddit_posts.values, y_train)}')\n",
    "    print(f'Test score = {M.score(vecced_test_reddit_posts.values, y_test)}')\n",
    "    \n",
    "    predictions = M.predict(vecced_test_reddit_posts.values)\n",
    "    print('--------')\n",
    "    cm = confusion_matrix(y_test, predictions)\n",
    "    print(cm)\n",
    "    ax = plt.subplot()\n",
    "    sns.heatmap(cm, annot=True, ax = ax, fmt = 'g'); #annot=True to annotate cells\n",
    "    # labels, title and ticks\n",
    "    ax.set_xlabel('Predicted', fontsize=20)\n",
    "    \n",
    "    ax.xaxis.set_label_position('top') \n",
    "    \n",
    "    if category == 'asking for help':\n",
    "        ax.xaxis.set_ticklabels(['asking for help', 'not asking for help'], fontsize = 10)\n",
    "        ax.xaxis.tick_top()\n",
    "\n",
    "        ax.set_ylabel('True', fontsize=20)\n",
    "        ax.yaxis.set_ticklabels(['asking for help', 'not asking for help'], fontsize = 10)\n",
    "    \n",
    "    elif category == 'cheating':\n",
    "        ax.xaxis.set_ticklabels(['cheating', 'not cheating'], fontsize = 10)\n",
    "        ax.xaxis.tick_top()\n",
    "\n",
    "        ax.set_ylabel('True', fontsize=20)\n",
    "        ax.yaxis.set_ticklabels(['cheating', 'not cheating'], fontsize = 10)\n",
    "    \n",
    "    \n",
    "    plt.show()\n",
    "    print(f'Best params = {M.best_params_}')\n",
    "    "
   ]
  },
  {
   "cell_type": "code",
   "execution_count": 8,
   "id": "abfeedd6",
   "metadata": {},
   "outputs": [
    {
     "name": "stdout",
     "output_type": "stream",
     "text": [
      "Fitting 5 folds for each of 8 candidates, totalling 40 fits\n",
      "Train score = 0.9955476402493322\n",
      "Test score = 0.9661921708185054\n",
      "--------\n",
      "[[407  24]\n",
      " [ 14 679]]\n"
     ]
    },
    {
     "data": {
      "image/png": "[encoded data removed]",
      "text/plain": [
       "<Figure size 432x288 with 2 Axes>"
      ]
     },
     "metadata": {
      "needs_background": "light"
     },
     "output_type": "display_data"
    },
    {
     "name": "stdout",
     "output_type": "stream",
     "text": [
      "Best params = {'C': 1.5, 'class_weight': 'balanced', 'penalty': 'l1', 'random_state': 42, 'solver': 'liblinear', 'warm_start': True}\n"
     ]
    }
   ],
   "source": [
    "run_lr_model('asking for help')"
   ]
  },
  {
   "cell_type": "code",
   "execution_count": 9,
   "id": "3cbed053",
   "metadata": {},
   "outputs": [
    {
     "name": "stdout",
     "output_type": "stream",
     "text": [
      "Fitting 5 folds for each of 8 candidates, totalling 40 fits\n",
      "Train score = 0.9510240427426536\n",
      "Test score = 0.9128113879003559\n",
      "--------\n",
      "[[588  23]\n",
      " [ 75 438]]\n"
     ]
    },
    {
     "data": {
      "image/png": "[encoded data removed]",
      "text/plain": [
       "<Figure size 432x288 with 2 Axes>"
      ]
     },
     "metadata": {
      "needs_background": "light"
     },
     "output_type": "display_data"
    },
    {
     "name": "stdout",
     "output_type": "stream",
     "text": [
      "Best params = {'C': 1, 'class_weight': 'balanced', 'penalty': 'l1', 'random_state': 42, 'solver': 'liblinear', 'warm_start': True}\n"
     ]
    }
   ],
   "source": [
    "run_lr_model('cheating')"
   ]
  },
  {
   "cell_type": "code",
   "execution_count": 10,
   "id": "122ab013",
   "metadata": {},
   "outputs": [],
   "source": [
    "#MULTINOMIAL NAIVE BAYES"
   ]
  },
  {
   "cell_type": "code",
   "execution_count": 13,
   "id": "5e0bd81c",
   "metadata": {},
   "outputs": [],
   "source": [
    "def run_mn_model(category):\n",
    "\n",
    "    features = ['title', 'selftext']\n",
    "    \n",
    "    if category == 'asking for help':\n",
    "        reddit_posts_df_1 = asking_for_help_MLdata\n",
    "        reddit_posts_df = reddit_posts_df_1.replace(np.nan, 'thisismissingtext', regex=True)\n",
    "        X = reddit_posts_df[features].fillna('thisismissingtext')\n",
    "        y = reddit_posts_df['Asking for help'].fillna('thisismissingtext')\n",
    "    elif category == 'cheating':\n",
    "        reddit_posts_df_1 = cheating_MLdata\n",
    "        reddit_posts_df = reddit_posts_df_1.replace(np.nan, 'thisismissingtext', regex=True)\n",
    "        X = reddit_posts_df[features].fillna('thisismissingtext')\n",
    "        y = reddit_posts_df['Cheating'].fillna('thisismissingtext')\n",
    "        \n",
    "    \n",
    "    X_train, X_test, y_train, y_test = train_test_split(X,\n",
    "                                                    y,\n",
    "                                                    random_state=42,\n",
    "                                                    test_size=0.50,\n",
    "                                                    stratify=y)\n",
    "    \n",
    "    cv_text = CountVectorizer(stop_words='english', strip_accents = 'ascii', ngram_range=(1, 10))\n",
    "    cv_title = CountVectorizer(stop_words='english', strip_accents = 'ascii', ngram_range=(1, 3))\n",
    "    \n",
    "    X_train_selftext = cv_text.fit_transform(X_train.selftext)\n",
    "    X_train_title = cv_title.fit_transform(X_train.title)\n",
    "\n",
    "    X_test_selftext = cv_text.transform(X_test.selftext)\n",
    "    X_test_title = cv_title.transform(X_test.title)\n",
    "\n",
    "    X_train_selftext_df = pd.DataFrame(X_train_selftext.todense(), columns=[x+'_text' for x in cv_text.get_feature_names_out()])\n",
    "    \n",
    "    X_train_title_df = pd.DataFrame(X_train_title.todense(), columns=[y+'_title' for y in cv_title.get_feature_names_out()])\n",
    "\n",
    "    X_test_selftext_df = pd.DataFrame(X_test_selftext.todense(), columns=[x+'_text' for x in cv_text.get_feature_names_out()])\n",
    "    \n",
    "    X_test_title_df = pd.DataFrame(X_test_title.todense(), columns=[y+'_title' for y in cv_title.get_feature_names_out()])\n",
    "\n",
    "    vecced_train_reddit_posts = pd.concat([X_train_selftext_df, X_train_title_df], axis=1)\n",
    "    vecced_test_reddit_posts = pd.concat([X_test_selftext_df, X_test_title_df], axis=1)\n",
    "    \n",
    "        \n",
    "    mn_params = {\n",
    "        'fit_prior': [True],\n",
    "        'alpha': [0, 0.5, 1]}\n",
    "        \n",
    "    M = GridSearchCV(MultinomialNB(),\n",
    "                    mn_params,\n",
    "                    cv = 5,\n",
    "                    verbose = 1,\n",
    "                    n_jobs = -1)\n",
    "        \n",
    "        \n",
    "    M.fit(vecced_train_reddit_posts.values, y_train)\n",
    "     \n",
    "    print(f'Train score = {M.score(vecced_train_reddit_posts.values, y_train)}')\n",
    "    print(f'Test score = {M.score(vecced_test_reddit_posts.values, y_test)}')\n",
    "    \n",
    "    predictions = M.predict(vecced_test_reddit_posts.values)\n",
    "    print('--------')\n",
    "    cm = confusion_matrix(y_test, predictions)\n",
    "    print(cm)\n",
    "    ax = plt.subplot()\n",
    "    sns.heatmap(cm, annot=True, ax = ax, fmt = 'g'); #annot=True to annotate cells\n",
    "    # labels, title and ticks\n",
    "    ax.set_xlabel('Predicted', fontsize=20)\n",
    "    ax.xaxis.set_label_position('top') \n",
    "    if category == 'asking for help':\n",
    "        ax.xaxis.set_ticklabels(['asking for help', 'not asking for help'], fontsize = 10)\n",
    "        ax.xaxis.tick_top()\n",
    "\n",
    "        ax.set_ylabel('True', fontsize=20)\n",
    "        ax.yaxis.set_ticklabels(['asking for help', 'not asking for help'], fontsize = 10)\n",
    "    \n",
    "    elif category == 'cheating':\n",
    "        ax.xaxis.set_ticklabels(['cheating', 'not cheating'], fontsize = 10)\n",
    "        ax.xaxis.tick_top()\n",
    "\n",
    "        ax.set_ylabel('True', fontsize=20)\n",
    "        ax.yaxis.set_ticklabels(['cheating', 'not cheating'], fontsize = 10)\n",
    "    \n",
    "    plt.show()\n",
    "    print(f'Best params = {M.best_params_}')\n",
    "\n"
   ]
  },
  {
   "cell_type": "code",
   "execution_count": 14,
   "id": "e9a31569",
   "metadata": {},
   "outputs": [
    {
     "name": "stdout",
     "output_type": "stream",
     "text": [
      "Fitting 5 folds for each of 3 candidates, totalling 15 fits\n"
     ]
    },
    {
     "name": "stderr",
     "output_type": "stream",
     "text": [
      "/Users/krishmaha/opt/anaconda3/lib/python3.8/site-packages/sklearn/naive_bayes.py:555: UserWarning: alpha too small will result in numeric errors, setting alpha = 1.0e-10\n",
      "  warnings.warn(\n"
     ]
    },
    {
     "name": "stdout",
     "output_type": "stream",
     "text": [
      "Train score = 0.9982190560997328\n",
      "Test score = 0.9537366548042705\n",
      "--------\n",
      "[[411  20]\n",
      " [ 32 661]]\n"
     ]
    },
    {
     "data": {
      "image/png": "[encoded data removed]",
      "text/plain": [
       "<Figure size 432x288 with 2 Axes>"
      ]
     },
     "metadata": {
      "needs_background": "light"
     },
     "output_type": "display_data"
    },
    {
     "name": "stdout",
     "output_type": "stream",
     "text": [
      "Best params = {'alpha': 0, 'fit_prior': True}\n"
     ]
    },
    {
     "name": "stderr",
     "output_type": "stream",
     "text": [
      "/Users/krishmaha/opt/anaconda3/lib/python3.8/site-packages/sklearn/naive_bayes.py:555: UserWarning: alpha too small will result in numeric errors, setting alpha = 1.0e-10\n",
      "  warnings.warn(\n",
      "/Users/krishmaha/opt/anaconda3/lib/python3.8/site-packages/sklearn/naive_bayes.py:555: UserWarning: alpha too small will result in numeric errors, setting alpha = 1.0e-10\n",
      "  warnings.warn(\n",
      "/Users/krishmaha/opt/anaconda3/lib/python3.8/site-packages/sklearn/naive_bayes.py:555: UserWarning: alpha too small will result in numeric errors, setting alpha = 1.0e-10\n",
      "  warnings.warn(\n"
     ]
    }
   ],
   "source": [
    "run_mn_model('asking for help')"
   ]
  },
  {
   "cell_type": "code",
   "execution_count": 15,
   "id": "40b3fa8b",
   "metadata": {},
   "outputs": [
    {
     "name": "stdout",
     "output_type": "stream",
     "text": [
      "Fitting 5 folds for each of 3 candidates, totalling 15 fits\n"
     ]
    },
    {
     "name": "stderr",
     "output_type": "stream",
     "text": [
      "/Users/krishmaha/opt/anaconda3/lib/python3.8/site-packages/sklearn/naive_bayes.py:555: UserWarning: alpha too small will result in numeric errors, setting alpha = 1.0e-10\n",
      "  warnings.warn(\n"
     ]
    },
    {
     "name": "stdout",
     "output_type": "stream",
     "text": [
      "Train score = 0.9902048085485308\n",
      "Test score = 0.9181494661921709\n",
      "--------\n",
      "[[589  22]\n",
      " [ 70 443]]\n"
     ]
    },
    {
     "data": {
      "image/png": "[encoded data removed]",
      "text/plain": [
       "<Figure size 432x288 with 2 Axes>"
      ]
     },
     "metadata": {
      "needs_background": "light"
     },
     "output_type": "display_data"
    },
    {
     "name": "stdout",
     "output_type": "stream",
     "text": [
      "Best params = {'alpha': 0, 'fit_prior': True}\n"
     ]
    },
    {
     "name": "stderr",
     "output_type": "stream",
     "text": [
      "/Users/krishmaha/opt/anaconda3/lib/python3.8/site-packages/sklearn/naive_bayes.py:555: UserWarning: alpha too small will result in numeric errors, setting alpha = 1.0e-10\n",
      "  warnings.warn(\n"
     ]
    }
   ],
   "source": [
    "run_mn_model('cheating')"
   ]
  },
  {
   "cell_type": "code",
   "execution_count": null,
   "id": "db2b4887",
   "metadata": {},
   "outputs": [],
   "source": []
  }
 ],
 "metadata": {
  "kernelspec": {
   "display_name": "Python 3 (ipykernel)",
   "language": "python",
   "name": "python3"
  },
  "language_info": {
   "codemirror_mode": {
    "name": "ipython",
    "version": 3
   },
   "file_extension": ".py",
   "mimetype": "text/x-python",
   "name": "python",
   "nbconvert_exporter": "python",
   "pygments_lexer": "ipython3",
   "version": "3.8.8"
  }
 },
 "nbformat": 4,
 "nbformat_minor": 5
}
